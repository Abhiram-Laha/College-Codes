{
 "cells": [
  {
   "cell_type": "code",
   "execution_count": 7,
   "id": "6a94b472",
   "metadata": {},
   "outputs": [
    {
     "name": "stdout",
     "output_type": "stream",
     "text": [
      "7       0\n",
      "619     0\n",
      "182     0\n",
      "1218    1\n",
      "194     0\n",
      "       ..\n",
      "589     0\n",
      "1224    1\n",
      "502     0\n",
      "718     0\n",
      "1058    1\n",
      "Name: Class, Length: 549, dtype: int64 [0 0 0 1 0 1 0 0 1 0 0 0 1 1 0 1 1 0 0 1 1 1 1 0 1 1 1 0 0 0 1 0 1 0 1 1 0\n",
      " 0 0 1 0 0 0 1 1 0 1 0 1 1 0 0 1 1 0 1 1 1 1 1 0 1 0 1 1 0 1 0 0 0 1 0 1 1\n",
      " 1 1 0 0 0 0 1 0 1 1 0 1 0 0 0 1 0 1 1 0 0 0 1 0 0 1 1 0 0 0 0 0 0 1 1 0 0\n",
      " 0 0 0 0 0 1 0 0 1 1 0 0 0 1 0 0 0 1 0 0 1 0 0 1 0 1 0 0 1 0 1 1 0 0 1 1 0\n",
      " 1 0 1 0 0 1 1 1 1 1 1 1 0 0 1 0 0 1 0 0 0 1 1 1 1 0 1 0 1 0 1 0 0 0 1 0 1\n",
      " 0 1 0 1 0 0 1 0 0 1 1 0 0 0 1 0 1 1 1 0 0 0 0 0 0 0 1 0 1 1 1 0 1 1 1 0 1\n",
      " 0 0 0 1 0 1 1 1 0 0 0 1 1 1 0 1 0 1 0 0 1 1 1 0 0 0 0 0 0 0 0 0 0 1 1 1 1\n",
      " 1 0 1 1 1 1 0 0 0 0 1 0 0 0 0 1 0 0 0 1 1 1 1 0 0 1 0 1 1 0 0 0 0 1 1 0 0\n",
      " 0 1 0 1 1 1 0 1 0 0 0 0 0 1 1 0 0 0 1 0 0 0 1 0 1 0 1 0 1 0 1 1 0 1 1 1 1\n",
      " 1 0 0 0 1 1 0 0 0 1 1 1 0 1 1 0 1 0 1 1 0 0 0 0 0 0 1 0 0 0 0 0 0 1 1 0 0\n",
      " 0 0 0 0 0 0 1 1 0 1 0 0 1 1 0 1 0 1 1 0 0 1 1 1 1 1 1 0 1 1 0 0 0 1 0 1 1\n",
      " 0 1 1 0 0 1 0 0 1 1 0 0 1 0 1 1 0 0 1 0 0 0 0 1 1 0 1 0 0 0 0 1 0 0 0 1 1\n",
      " 1 1 0 1 1 1 0 1 0 1 0 1 0 1 0 1 1 1 1 1 1 0 1 0 0 0 1 0 1 1 0 1 0 1 0 0 0\n",
      " 0 1 0 0 0 1 0 1 1 1 0 1 0 0 0 1 1 0 0 0 0 1 0 1 1 1 1 0 0 1 1 1 0 0 1 1 0\n",
      " 1 1 1 1 0 0 0 1 1 1 0 0 0 1 1 1 0 0 1 0 1 1 0 0 0 0 0 1 0 0 1]\n",
      "              precision    recall  f1-score   support\n",
      "\n",
      "           0       1.00      0.98      0.99       299\n",
      "           1       0.98      1.00      0.99       250\n",
      "\n",
      "    accuracy                           0.99       549\n",
      "   macro avg       0.99      0.99      0.99       549\n",
      "weighted avg       0.99      0.99      0.99       549\n",
      "\n",
      "[[294   5]\n",
      " [  1 249]]\n"
     ]
    }
   ],
   "source": [
    "import pandas as pd\n",
    "from sklearn.svm import SVC\n",
    "from sklearn.metrics import confusion_matrix, classification_report\n",
    "from sklearn.model_selection import train_test_split\n",
    "\n",
    "df=pd.read_csv(\"bill_authentication.csv\")\n",
    "x=df.drop('Class',axis='columns')\n",
    "y=df['Class']\n",
    "\n",
    "x_train,x_test,y_train,y_test=train_test_split(x,y,test_size=0.4)\n",
    "\n",
    "model=SVC(kernel='linear')\n",
    "model.fit(x_train,y_train)\n",
    "\n",
    "y_pred=model.predict(x_test)\n",
    "print(y_test,y_pred)\n",
    "\n",
    "print(classification_report(y_test,y_pred))\n",
    "print(confusion_matrix(y_test,y_pred))\n"
   ]
  },
  {
   "cell_type": "code",
   "execution_count": null,
   "id": "a5f6b63e",
   "metadata": {},
   "outputs": [],
   "source": []
  },
  {
   "cell_type": "code",
   "execution_count": null,
   "id": "e4c974d1",
   "metadata": {},
   "outputs": [],
   "source": []
  },
  {
   "cell_type": "code",
   "execution_count": null,
   "id": "4aff3141",
   "metadata": {},
   "outputs": [],
   "source": []
  }
 ],
 "metadata": {
  "kernelspec": {
   "display_name": "Python 3 (ipykernel)",
   "language": "python",
   "name": "python3"
  },
  "language_info": {
   "codemirror_mode": {
    "name": "ipython",
    "version": 3
   },
   "file_extension": ".py",
   "mimetype": "text/x-python",
   "name": "python",
   "nbconvert_exporter": "python",
   "pygments_lexer": "ipython3",
   "version": "3.11.0"
  }
 },
 "nbformat": 4,
 "nbformat_minor": 5
}

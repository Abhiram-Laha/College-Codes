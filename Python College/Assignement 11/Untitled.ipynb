{
 "cells": [
  {
   "cell_type": "code",
   "execution_count": 1,
   "id": "b2652c0b",
   "metadata": {},
   "outputs": [
    {
     "name": "stdout",
     "output_type": "stream",
     "text": [
      "   Hours  Scores\n",
      "0    2.5      21\n",
      "1    5.1      47\n",
      "2    3.2      27\n",
      "3    8.5      75\n",
      "4    3.5      30\n",
      "5    1.5      20\n",
      "6    9.2      88\n",
      "7    5.5      60\n",
      "8    8.3      81\n",
      "9    2.7      25\n",
      "           Hours     Scores\n",
      "count  25.000000  25.000000\n",
      "mean    5.012000  51.480000\n",
      "std     2.525094  25.286887\n",
      "min     1.100000  17.000000\n",
      "25%     2.700000  30.000000\n",
      "50%     4.800000  47.000000\n",
      "75%     7.400000  75.000000\n",
      "max     9.200000  95.000000\n",
      "[21 47 27 75 30 20 88 60 81 25 85 62 41 42 17 95 30 24 67 69 30 54 35 76\n",
      " 86]\n",
      "(25,)\n",
      "(25, 1)\n",
      "[[2.5]\n",
      " [5.1]\n",
      " [3.2]\n",
      " [8.5]\n",
      " [3.5]\n",
      " [1.5]\n",
      " [9.2]\n",
      " [5.5]\n",
      " [8.3]\n",
      " [2.7]\n",
      " [7.7]\n",
      " [5.9]\n",
      " [4.5]\n",
      " [3.3]\n",
      " [1.1]\n",
      " [8.9]\n",
      " [2.5]\n",
      " [1.9]\n",
      " [6.1]\n",
      " [7.4]\n",
      " [2.7]\n",
      " [4.8]\n",
      " [3.8]\n",
      " [6.9]\n",
      " [7.8]]\n",
      "[[2.7]\n",
      " [3.3]\n",
      " [5.1]\n",
      " [3.8]\n",
      " [1.5]\n",
      " [3.2]\n",
      " [4.5]\n",
      " [8.9]\n",
      " [8.5]\n",
      " [3.5]\n",
      " [2.7]\n",
      " [1.9]\n",
      " [4.8]\n",
      " [6.1]\n",
      " [7.8]\n",
      " [5.5]\n",
      " [7.7]\n",
      " [1.1]\n",
      " [7.4]\n",
      " [9.2]]\n",
      "[[25]\n",
      " [42]\n",
      " [47]\n",
      " [35]\n",
      " [20]\n",
      " [27]\n",
      " [41]\n",
      " [95]\n",
      " [75]\n",
      " [30]\n",
      " [30]\n",
      " [24]\n",
      " [54]\n",
      " [67]\n",
      " [86]\n",
      " [60]\n",
      " [85]\n",
      " [17]\n",
      " [69]\n",
      " [88]]\n",
      "[[9.68207815]]\n",
      "[2.82689235]\n",
      "[[51.23728313]]\n",
      "   Actual  Predicted\n",
      "0      81  83.188141\n",
      "1      30  27.032088\n",
      "2      21  27.032088\n",
      "3      76  69.633232\n",
      "4      62  59.951153\n",
      "Mean Absolute Error : 3.92\n"
     ]
    },
    {
     "data": {
      "text/plain": [
       "array([[51.23728313]])"
      ]
     },
     "execution_count": 1,
     "metadata": {},
     "output_type": "execute_result"
    }
   ],
   "source": [
    "import pandas as pd\n",
    "import numpy as np\n",
    "from sklearn.model_selection import train_test_split\n",
    "from sklearn.linear_model import LinearRegression\n",
    "from sklearn.metrics import mean_absolute_error,mean_squared_error\n",
    "\n",
    "df = pd.read_csv(\"student_scores.csv\")\n",
    "\n",
    "print(df.head(10))\n",
    "#df.plot.scatter(x='Hours',y='Scores',title='Scatter Plot of Hours with Scores',c='r')\n",
    "print(df.describe())\n",
    "\n",
    "y = df['Scores'].values.reshape(-1,1)\n",
    "x = df['Hours'].values.reshape(-1,1)\n",
    "\n",
    "print(df['Scores'].values)\n",
    "print(df['Hours'].values.shape)\n",
    "print(x.shape)\n",
    "print(x)\n",
    "\n",
    "#x_train,x_test,y_train,y_test = train_test_split(x,y,test_size=0.2)\n",
    "seed = 42\n",
    "x_train,x_test,y_train,y_test = train_test_split(x,y,test_size=0.2,random_state=seed)\n",
    "\n",
    "print(x_train)\n",
    "print(y_train)\n",
    "\n",
    "model = LinearRegression()\n",
    "model.fit(x_train,y_train)\n",
    "print(model.coef_)\n",
    "print(model.intercept_)\n",
    "\n",
    "score = model.predict([[5]])\n",
    "print(score)\n",
    "\n",
    "y_pred = model.predict(x_test)\n",
    "\n",
    "df_preds = pd.DataFrame({'Actual':y_test.squeeze(), 'Predicted':y_pred.squeeze()})\n",
    "print(df_preds)\n",
    "\n",
    "mae = mean_absolute_error(y_test,y_pred)\n",
    "mse = mean_squared_error(y_test,y_pred)\n",
    "\n",
    "rmse = np.sqrt(mse)\n",
    "\n",
    "print(f'Mean Absolute Error : {mae:.2f}')\n",
    "\n",
    "\n",
    "\n",
    "model.predict([[5]])\n",
    "\n",
    "\n",
    "\n"
   ]
  },
  {
   "cell_type": "code",
   "execution_count": 2,
   "id": "c4087bb9",
   "metadata": {},
   "outputs": [
    {
     "data": {
      "text/plain": [
       "96.08"
      ]
     },
     "execution_count": 2,
     "metadata": {},
     "output_type": "execute_result"
    }
   ],
   "source": [
    "100-3.92"
   ]
  },
  {
   "cell_type": "code",
   "execution_count": null,
   "id": "3229c1e6",
   "metadata": {},
   "outputs": [],
   "source": []
  }
 ],
 "metadata": {
  "kernelspec": {
   "display_name": "Python 3",
   "language": "python",
   "name": "python3"
  },
  "language_info": {
   "codemirror_mode": {
    "name": "ipython",
    "version": 3
   },
   "file_extension": ".py",
   "mimetype": "text/x-python",
   "name": "python",
   "nbconvert_exporter": "python",
   "pygments_lexer": "ipython3",
   "version": "3.11.0"
  },
  "vscode": {
   "interpreter": {
    "hash": "1f6a27bcfbe46a917dbd192f4a82657396dda26148bae633192e8d28c70725f1"
   }
  }
 },
 "nbformat": 4,
 "nbformat_minor": 5
}
